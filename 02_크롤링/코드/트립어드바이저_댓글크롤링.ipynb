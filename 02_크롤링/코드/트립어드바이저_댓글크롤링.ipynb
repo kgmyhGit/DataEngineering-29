{
 "cells": [
  {
   "cell_type": "markdown",
   "id": "189be5a5",
   "metadata": {},
   "source": [
    "트립어드바이저_댓글 크롤링\n",
    "\n",
    "- 한페이지 댓글 가져오기"
   ]
  },
  {
   "cell_type": "code",
   "execution_count": 2,
   "id": "db5c9e9d",
   "metadata": {},
   "outputs": [],
   "source": [
    "from selenium import webdriver\n",
    "from selenium.webdriver.common.by import By\n",
    "\n",
    "from webdriver_manager.chrome import ChromeDriverManager\n",
    "from selenium.webdriver.chrome.service import Service\n",
    "\n",
    "from bs4 import BeautifulSoup\n",
    "import time"
   ]
  },
  {
   "cell_type": "code",
   "execution_count": 18,
   "id": "091185f3",
   "metadata": {},
   "outputs": [],
   "source": [
    "url = 'https://www.tripadvisor.co.kr/Restaurant_Review-g294197-d3200324-Reviews-or50-Jungsik-Seoul.html'\n",
    "\n",
    "service = Service(executable_path=ChromeDriverManager().install())\n",
    "browser = webdriver.Chrome(service=service)\n",
    "browser.implicitly_wait(5)  #찾는 element가 생길때 까지 최대 5초를 대기.\n",
    "\n",
    "# time.sleep(10)\n",
    "browser.maximize_window()\n",
    "# url 페이지로 이동\n",
    "browser.get(url)\n",
    "\n",
    "\n",
    "more_btn = browser.find_element(By.CSS_SELECTOR, \".taLnk.ulBlueLinks\")\n",
    "more_btn.click()\n",
    "\n",
    "time.sleep(1)\n",
    "\n",
    "html = browser.page_source\n",
    "soup = BeautifulSoup(html, \"lxml\")\n",
    "comment_tag_list = soup.select(\"p.partial_entry\")\n",
    "comment_list = []\n",
    "# print(len(comment_tag_list))\n",
    "for tag in comment_tag_list:\n",
    "    comment_list.append(tag.get_text().strip())\n",
    "    \n",
    "# 다음 버튼 클릭\n",
    "\n",
    "browser.close()"
   ]
  },
  {
   "cell_type": "code",
   "execution_count": 19,
   "id": "8d62c6fe",
   "metadata": {},
   "outputs": [
    {
     "data": {
      "text/plain": [
       "'들어가는 순간부터 서비스는 나를 편안하게 해주었다. 요리에 대한 부가 설명이 끝까지 명확하고 간결하게 이루어 졌으며, 나의 분자요리에 대한 안좋은 인식을 깨 주었다.'"
      ]
     },
     "execution_count": 19,
     "metadata": {},
     "output_type": "execute_result"
    }
   ],
   "source": [
    "comment_list[0]"
   ]
  },
  {
   "cell_type": "markdown",
   "id": "5bfc4034",
   "metadata": {},
   "source": [
    "# 모든 댓글들을 조회\n",
    "\n",
    "- 반복\n",
    "    - 현재 페이지 댓글 처리\n",
    "    - 다음버튼 클릭\n",
    "    "
   ]
  },
  {
   "cell_type": "code",
   "execution_count": 31,
   "id": "3242adc5",
   "metadata": {},
   "outputs": [
    {
     "name": "stdout",
     "output_type": "stream",
     "text": [
      "1\t1\t1\t1\t1\t1\t1\t1\t1\t1\t1\t1\t1\t1\t1\t1\t1\t종료\n"
     ]
    }
   ],
   "source": [
    "from selenium import webdriver\n",
    "from selenium.webdriver.common.by import By\n",
    "\n",
    "from webdriver_manager.chrome import ChromeDriverManager\n",
    "from selenium.webdriver.chrome.service import Service\n",
    "from selenium.webdriver.support.ui import WebDriverWait\n",
    "from selenium.webdriver.support import expected_conditions as EC\n",
    "\n",
    "\n",
    "from bs4 import BeautifulSoup\n",
    "import time\n",
    "\n",
    "url = 'https://www.tripadvisor.co.kr/Restaurant_Review-g294197-d3200324-Reviews-or50-Jungsik-Seoul.html'\n",
    "\n",
    "service = Service(executable_path=ChromeDriverManager().install())\n",
    "browser = webdriver.Chrome(service=service)\n",
    "browser.implicitly_wait(5)  #찾는 element가 생길때 까지 최대 5초를 대기.\n",
    "\n",
    "# time.sleep(10)\n",
    "browser.maximize_window()\n",
    "# url 페이지로 이동\n",
    "browser.get(url)\n",
    "\n",
    "\n",
    "comment_list = []  # 모든 댓글들을 저장할 리스트.\n",
    "i = 0\n",
    "while True:\n",
    "    i += 1\n",
    "    print(i, end=\"\\t\")\n",
    "    \n",
    "    # more_btn = browser.find_element(By.CSS_SELECTOR, \".taLnk.ulBlueLinks\")\n",
    "    more_btn = WebDriverWait(browser, 10).until(EC.presence_of_element_located([By.CSS_SELECTOR, '.taLnk.ulBlueLinks']))\n",
    "\n",
    "    more_btn.click()\n",
    "\n",
    "    time.sleep(1)\n",
    "\n",
    "    html = browser.page_source\n",
    "    soup = BeautifulSoup(html, \"lxml\")\n",
    "    comment_tag_list = soup.select(\"p.partial_entry\")\n",
    "\n",
    "    # print(len(comment_tag_list))\n",
    "    for tag in comment_tag_list:\n",
    "        comment_list.append(tag.get_text().strip())\n",
    "\n",
    "    # 다음 버튼 클릭\n",
    "    #  css: nav.next.ui_button\n",
    "    try:\n",
    "        next_btn = browser.find_element(By.CSS_SELECTOR, \".nav.next.ui_button\")\n",
    "        next_btn.click()\n",
    "        time.sleep(1)\n",
    "    except:\n",
    "        print(\"종료\")\n",
    "        break\n",
    "    \n",
    "browser.close()"
   ]
  },
  {
   "cell_type": "code",
   "execution_count": 28,
   "id": "0f1a51c9",
   "metadata": {},
   "outputs": [],
   "source": []
  },
  {
   "cell_type": "code",
   "execution_count": 32,
   "id": "2a7fdee4",
   "metadata": {},
   "outputs": [
    {
     "data": {
      "text/plain": [
       "167"
      ]
     },
     "execution_count": 32,
     "metadata": {},
     "output_type": "execute_result"
    }
   ],
   "source": [
    "len(comment_list)"
   ]
  },
  {
   "cell_type": "code",
   "execution_count": 34,
   "id": "30426c0a",
   "metadata": {},
   "outputs": [
    {
     "data": {
      "text/plain": [
       "'공간이 좁은 감은 있습니다 인테리어가 크게 세련되지 않습니다 식단보가 가죽 비슷한 건데 좋게 생각되지 않았습니다 하지만 음식은 좋았습니다 .'"
      ]
     },
     "execution_count": 34,
     "metadata": {},
     "output_type": "execute_result"
    }
   ],
   "source": [
    "comment_list[10]"
   ]
  },
  {
   "cell_type": "code",
   "execution_count": null,
   "id": "4c2e8bac",
   "metadata": {},
   "outputs": [],
   "source": []
  }
 ],
 "metadata": {
  "kernelspec": {
   "display_name": "Python 3 (ipykernel)",
   "language": "python",
   "name": "python3"
  },
  "language_info": {
   "codemirror_mode": {
    "name": "ipython",
    "version": 3
   },
   "file_extension": ".py",
   "mimetype": "text/x-python",
   "name": "python",
   "nbconvert_exporter": "python",
   "pygments_lexer": "ipython3",
   "version": "3.11.4"
  }
 },
 "nbformat": 4,
 "nbformat_minor": 5
}

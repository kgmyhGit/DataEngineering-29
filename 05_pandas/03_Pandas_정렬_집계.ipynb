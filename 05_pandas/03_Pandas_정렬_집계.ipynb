{
 "cells": [
  {
   "cell_type": "markdown",
   "metadata": {
    "slideshow": {
     "slide_type": "slide"
    }
   },
   "source": [
    "# 정렬\n",
    "## index이름, column 이름을 기준으로 정렬\n",
    "\n",
    "- <b style='font-size:1.2em'>sort_index(axis=0, ascending=True, inplace=False)</b>\n",
    "    - axis\n",
    "        - index 이름 기준 정렬(행) : 'index' 또는 0 (기본값)\n",
    "        - column 이름 기준 정렬(열) : 'columns' 또는 1\n",
    "    - ascending\n",
    "        - 정렬방식\n",
    "        - True(기본): 오름차순, False: 내림차순\n",
    "    - inplace\n",
    "        - 원본에 적용 여부\n",
    "        - False(기본): 변경한 복사본 반환 \n",
    "        - True : 원본을 변경"
   ]
  },
  {
   "cell_type": "code",
   "execution_count": null,
   "metadata": {
    "slideshow": {
     "slide_type": "fragment"
    }
   },
   "outputs": [],
   "source": []
  },
  {
   "cell_type": "markdown",
   "metadata": {
    "slideshow": {
     "slide_type": "subslide"
    }
   },
   "source": [
    "## 특정 컬럼(열)의 값을 기준으로 정렬\n",
    "- <b style='font-size:1.2em'>sort_values(by, ascending, inplace)</b>\n",
    "    - by\n",
    "        - **정렬 기준 컬럼이름**을 문자열로 지정\n",
    "        - 여러 컬럼에 대해 정렬할 경우 리스트에 담아 전달\n",
    "    - ascending\n",
    "        - 정렬방식\n",
    "        - True(기본): 오름차순, False: 내림차순\n",
    "        - 여러 컬럼에 대해 정렬할 경우 정렬방식도 리스트에 담아 전달\n",
    "    - inplace\n",
    "        - 원본에 적용 여부\n",
    "        - False(기본): 변경한 복사본 반환 \n",
    "        - True : 원본을 변경\n",
    "    - 결측치는 방식과 상관없이 마지막에 나온다."
   ]
  },
  {
   "cell_type": "markdown",
   "metadata": {
    "slideshow": {
     "slide_type": "slide"
    }
   },
   "source": [
    "# flights.csv (항공기 운항 기록 데이터)\n",
    "- MONTH : 비행 월\n",
    "- DAY : 비행 일\n",
    "- WEEKDAY : 비행 요일 - 1(월요일)~7(일요일)\n",
    "- AIRLINE : 항공사 코드\n",
    "     - UA:\tUnited Air Lines Inc.\n",
    "     - AA:\tAmerican Airlines Inc.\n",
    "     - US:\tUS Airways Inc.\n",
    "     - F9:\tFrontier Airlines Inc.\n",
    "     - B6:\tJetBlue Airways\n",
    "     - OO:\tSkywest Airlines Inc.\n",
    "     - AS:\tAlaska Airlines Inc.\n",
    "     - NK:\tSpirit Air Lines\n",
    "     - WN:\tSouthwest Airlines Co.\n",
    "     - DL:\tDelta Air Lines Inc.\n",
    "     - EV:\tAtlantic Southeast Airlines\n",
    "     - HA:\tHawaiian Airlines Inc.\n",
    "     - MQ:\tAmerican Eagle Airlines Inc.\n",
    "     - VX:\tVirgin America\n",
    "- ORG_AIR : 출발공항\n",
    "- DEST_AIR : 도착공항\n",
    "- SCHED_DEP : 출발예정시각\n",
    "- DEP_DELAY : 출발지연시간(분)\n",
    "- AIR_TIME : 비행시간(분)\n",
    "- DIST : 비행거리(마일)\n",
    "- SCHED_ARR : 도착예정시각\n",
    "- ARR_DELAY : 도착지연시간(분)\n",
    "- DIVERTED : 회항여부(1: True, 0: False)\n",
    "- CANCELLED : 취소여부(1: True, 0: False)"
   ]
  },
  {
   "cell_type": "code",
   "execution_count": null,
   "metadata": {
    "slideshow": {
     "slide_type": "fragment"
    }
   },
   "outputs": [],
   "source": []
  },
  {
   "cell_type": "markdown",
   "metadata": {
    "slideshow": {
     "slide_type": "slide"
    }
   },
   "source": [
    "# 기술통계 메소드들을 이용한 데이터 집계\n",
    "## 주요 기술통계 메소드\n",
    "\n",
    "|함수|설명|\n",
    "|-|-|\n",
    "|**sum()**|합계|\n",
    "|**mean()**|평균|\n",
    "|**median()**|중위수|\n",
    "|**mode()**|최빈값|\n",
    "|**quantile()**|분위수|\n",
    "|**std()**|표준편차|\n",
    "|**var()**|분산|\n",
    "|**count()**|결측치를 제외한 원소 개수|\n",
    "|**min()**|최소값|\n",
    "|**max()**|최대값|\n",
    "|**idxmax()**|최대값 index|\n",
    "|**idxmin()**|최소값 index|\n",
    "|**unique()**|고유값|\n",
    "|**nunique()**|고유값의 개수|\n",
    "\n",
    "<center><b style='font-size:1.2em'>cf) value_counts()는 Series에만 사용할 수 있다.</b></center>"
   ]
  },
  {
   "cell_type": "markdown",
   "metadata": {
    "slideshow": {
     "slide_type": "fragment"
    }
   },
   "source": [
    "- DataFrame에 위의 기술 통계 메소드들을 적용할 경우 **컬럼별로 계산한다.**\n",
    "- sum(), mode(), max(), min(), unique(), nunique(), count()는 **문자열에 적용가능하다.**\n",
    "    - idxmax(), idxmin() 는 문자열 컬럼에 사용할 수 없다. (문자열의 경우 넘파이의 argmax(), argmin() 함수를 사용한다.)"
   ]
  },
  {
   "cell_type": "markdown",
   "metadata": {
    "slideshow": {
     "slide_type": "fragment"
    }
   },
   "source": [
    "- **공통 매개변수**\n",
    "    - skipna=True(기본값)\n",
    "        - 결측치(NA)를 포함해서 계산할지 여부 설정.\n",
    "        - True가 기본값으로 결측치(NA)를 제외하고 처리한다. \n",
    "        - 결측치 제외하지 않으려면 skipna=False로 설정하는데 결측치가 있으면 결과는 결측치가 된다.\n",
    "    - axis\n",
    "        - DataFrame에 적용할 때 계산방향을 설정\n",
    "            - 0 또는 'index' (기본값): 컬럼 방향으로 집계\n",
    "            - 1 또는 'columns': 행 방향으로 집계"
   ]
  },
  {
   "cell_type": "code",
   "execution_count": null,
   "metadata": {
    "slideshow": {
     "slide_type": "fragment"
    }
   },
   "outputs": [],
   "source": []
  },
  {
   "cell_type": "markdown",
   "metadata": {
    "slideshow": {
     "slide_type": "slide"
    }
   },
   "source": [
    "## aggregate(func, axis=0, \\*args, \\*\\*kwargs) 또는 agg(func, axis=0, \\*args, \\*\\*kwargs)\n",
    "- DataFrame, Series의 메소드로 **집계결과를 다양한 형태로 묶어서 볼 때** 사용한다.\n",
    "    - **사용자 정의 집계메소드를 사용할 때도 편리하다.**\n",
    "- **매개변수**\n",
    "    - func \n",
    "        - 집계 함수 지정\n",
    "            - 함수명/함수리스트 (문자열)\n",
    "                - 판다스 제공 집계메소드들은 문자열로, 사용자정의 집계함수는 함수 객체로 전달\n",
    "            - Dictionary : {'집계할컬럼' : 집계함수, ... }\n",
    "                - 컬럼별로 다른 집계를 할 경우\n",
    "    - axis\n",
    "        - DataFrame에 적용할 때 0 방향으로 계산할 지 1 방향으로 계산할지 설정\n",
    "            - 0 또는 'index' (기본값): 컬럼 방향으로 집계\n",
    "            - 1 또는 'columns': 행 방향으로 집계\n",
    "    - \\*args, \\*\\*kwargs \n",
    "        - 함수에 전달할 매개변수. \n",
    "        - 집계함수는 첫번째 매개변수로 Series를 받는다. 그 이외의 매개변수가 있는 경우. "
   ]
  },
  {
   "cell_type": "code",
   "execution_count": null,
   "metadata": {
    "slideshow": {
     "slide_type": "fragment"
    }
   },
   "outputs": [],
   "source": []
  },
  {
   "cell_type": "markdown",
   "metadata": {
    "slideshow": {
     "slide_type": "slide"
    }
   },
   "source": [
    "# Groupby\n",
    "- 특정 열을 기준으로 같은 값을 가지는 행끼리 묶어서 group화 한다.\n",
    "- **~~ 별 집계를 할 때** 사용한다. (성별, 직급별, 등급별 ...)\n",
    "    - Group으로 묶을 기준 열은 범주형타입(category)을 사용한다.\n",
    "- **구문**\n",
    "    - `DF.groupby('그룹으로묶을기준컬럼')`\n",
    "        - DataFrameGroupby 객체를 반환한다.\n",
    "        - DataFrameGroupby 객체는 어떤 행끼리 묶여있는지 정보를 가진다. 이 객체의 집계함수를 사용하면 그룹별 집계를 할 수 있다.\n",
    "            - `DataFrameGroupby객체['집계할 컬럼'].집계함수()`\n",
    "        - groupby에 여러개의 컬럼을 기준으로 나눌 경우 리스트에 묶어서 전달한다.\n",
    "        - 집계할 컬럼이 여러개인 경우 리스트로 묶어준다.\n",
    "    - 집계함수\n",
    "        - 기술통계 함수들\n",
    "        - agg()/aggregate()\n",
    "            - 여러 다른 집계함수 호출시(여러 집계를 같이 볼경우)\n",
    "            - 사용자정의 집계함수 호출시\n",
    "            - 컬럼별로 다른 집계함수들을 호출할 경우"
   ]
  },
  {
   "cell_type": "code",
   "execution_count": null,
   "metadata": {
    "slideshow": {
     "slide_type": "fragment"
    }
   },
   "outputs": [],
   "source": []
  },
  {
   "cell_type": "markdown",
   "metadata": {
    "slideshow": {
     "slide_type": "subslide"
    }
   },
   "source": [
    "##  복수열 기준 그룹핑\n",
    "- 두개 이상의 열을 그룹으로 묶을 수 있다. \n",
    "- groupby의 매개변수에 그룹으로 묶을 컬럼들의 이름을 리스트로 전달한다."
   ]
  },
  {
   "cell_type": "code",
   "execution_count": null,
   "metadata": {
    "slideshow": {
     "slide_type": "fragment"
    }
   },
   "outputs": [],
   "source": []
  },
  {
   "cell_type": "markdown",
   "metadata": {
    "slideshow": {
     "slide_type": "subslide"
    }
   },
   "source": [
    "## Group 별 집계결과에서 특정 조건의 항목만 조회\n",
    "- Groupby 집계 후 boolean indexing 처리한다.\n"
   ]
  },
  {
   "cell_type": "code",
   "execution_count": null,
   "metadata": {
    "slideshow": {
     "slide_type": "fragment"
    }
   },
   "outputs": [],
   "source": []
  },
  {
   "cell_type": "markdown",
   "metadata": {
    "slideshow": {
     "slide_type": "slide"
    }
   },
   "source": [
    "# 사용자 정의 집계함수를 만들어 적용\n",
    "\n",
    "## 사용자 정의 집계 함수 정의\n",
    "- 매개변수\n",
    "    1. Series 또는 DataFrame을 받을 매개변수(필수)\n",
    "    2. 필요한 값을 받을 매개변수를 선언한다. (선택)"
   ]
  },
  {
   "cell_type": "markdown",
   "metadata": {
    "slideshow": {
     "slide_type": "subslide"
    }
   },
   "source": [
    "## agg() 를 사용해 사용자 정의 집계 함수 호출\n",
    "- DataFrame.agg(func=None, axis=0, \\*args, \\*\\*kwargs)\n",
    "    - axis : 사용자 정의 함수에 전달할 값들(Series)의 축 지정\n",
    "- Series.agg(func=None, axis=0, \\*args, \\*\\*kwargs)\n",
    "    - DataFrame의 agg와 매개변수 구조를 맞추기 위해 axis 지정한다. (kwargs를 이용해 매개변수 전달할 경우 axis는 생략해도 된다. - axis기본값 0을 그냥 쓰면 되므로. - keyword 인자 뒤에 position 인자는 안되서 *args로 값 전달시에는 axis를 지정해야 한다.)\n",
    "- DataFrameGroupBy.agg(func, \\*args, \\*\\*kwargs) : \n",
    "    - axis 지정안함.\n",
    "    - 사용자 함수에 Series를 group 별로 전달한다.\n",
    "- SeriesGroupBy.agg(func=None,  \\*args, \\*\\*kwargs)  \n",
    "    - axis 지정안함\n",
    "    - 사용자 함수에 Series를 group 별로 전달한다.\n",
    "  \n",
    "- \\*args, \\*\\*kwargs는 사용자 정의 함수에 선언한 매개변수가 있을 경우 전달할 값을 전달한다.  \n",
    "    - 키워드 인자를 이용해 가변인자로 전달하는 것이 편하다."
   ]
  },
  {
   "cell_type": "code",
   "execution_count": null,
   "metadata": {
    "slideshow": {
     "slide_type": "fragment"
    }
   },
   "outputs": [],
   "source": []
  },
  {
   "cell_type": "markdown",
   "metadata": {
    "slideshow": {
     "slide_type": "skip"
    }
   },
   "source": [
    "# TODO"
   ]
  },
  {
   "cell_type": "code",
   "execution_count": null,
   "metadata": {
    "slideshow": {
     "slide_type": "skip"
    }
   },
   "outputs": [],
   "source": [
    "# 1. data/diamonds.csv 를 읽어 DataFrame 생성\n",
    "\n",
    "# 2. 1에서 생성한 DataFrame의 정보 조회\n",
    "#     - 배열의 shape조회\n",
    "#     - DataFrame에 대한 정보조회\n",
    "#     - 상/하위 5개 행 조회\n",
    "#     - 결측치 확인\n",
    "\n",
    "# 3. carat, price, depth의 합계, 평균, 최대, 최소 조회\n",
    "\n",
    "# 4. price는 최대, 최소, color는 고유값의 개수를 조회\n",
    "\n",
    "# 5. cut의 고유값별 개수를 조회\n",
    "\n",
    "# 6. cut별 가격 평균 조회\n",
    "\n",
    "# 7. cut별 가격 평균중 4000이상만 조회\n",
    "\n",
    "# 8. clarity별 carat 평균과 표준편차 조회\n",
    "\n",
    "# 9. cut과 color 별로 가격은 평균을 carat은 최대값을 조회 \n",
    "\n",
    "# 10. 9번 문제의 결과에서 가격의 평균이 5000이상이고 carat의 최대값이 3이상인 결과만 조회"
   ]
  },
  {
   "cell_type": "markdown",
   "metadata": {},
   "source": [
    "# pivot_table()\n",
    "엑셀의 pivot table 기능을 제공하는 메소드.    \n",
    "분류별 집계(Group으로 묶어 집계)를 처리하는 함수로 group으로 묶고자 하는 컬럼들을 행과 열로 위치시키고 집계값을 값으로 보여준다.    \n",
    "역할은 `groupby()`를 이용한 집계와 같은데 **여러개 컬럼을 기준으로 groupby 를 할 경우 집계결과를 읽는 것이 더 편하다.(가독성이 좋다)**\n",
    "\n",
    "> pivot() 함수와 역할이 다르다.   \n",
    "> pivot() 은 index와 column의 형태를 바꾸는 reshape 함수.\n",
    "\n",
    "- `DataFrame.pivot_table(values=None, index=None, columns=None, aggfunc='mean', fill_value=None, margins=False, dropna=True, margins_name='All')`\n",
    "- **매개변수**\n",
    "    - **index**\n",
    "        - 문자열 또는 리스트. index로 올 컬럼들 => groupby였으면 묶었을 컬럼\n",
    "    - **columns**\n",
    "        - 문자열 또는 리스트. column으로 올 컬럼들 => groupby였으면 묶었을 컬럼 (index/columns가 묶여서 groupby에 묶을 컬럼들이 된다.)\n",
    "    - **values**\n",
    "        - 문자열 또는 리스트. 집계할 대상 컬럼들\n",
    "    - **aggfunc**\n",
    "        - 집계함수 지정. 함수, 함수이름문자열, 함수리스트(함수이름 문자열/함수객체), dict: 집계할 함수\n",
    "        - 기본(생략시): 평균을 구한다. (mean이 기본값)\n",
    "    - **fill_value, dropna**\n",
    "        - fill_value: 집계시 NA가 나올경우 채울 값\n",
    "        - dropna: boolean. 컬럼의 전체값이 NA인 경우 그 컬럼 제거(기본: True)\n",
    "    - **margins/margins_name**\n",
    "        - margin: boolean(기본: False). 총집계결과를 만들지 여부.\n",
    "        - margin_name: margin의 이름 문자열로 지정 (생략시 All)"
   ]
  },
  {
   "cell_type": "markdown",
   "metadata": {},
   "source": [
    "## 두개의 컬럼을 grouping 해서 집계\n",
    "- 항공사/출발공항코드 별 취소 총수 (1이 취소이므로 합계를 구한다.)\n",
    "- 사용컬럼\n",
    "    - grouping할 컬럼\n",
    "        - AIRLINE: 항공사\n",
    "        - ORG_AIR: 출발 공항코드\n",
    "    - 집계대상컬럼\n",
    "        - CANCELLED: 취소여부 - 1:취소, 0: 취소안됨\n",
    "- 집계: sum"
   ]
  },
  {
   "cell_type": "code",
   "execution_count": null,
   "metadata": {},
   "outputs": [],
   "source": []
  },
  {
   "cell_type": "markdown",
   "metadata": {},
   "source": [
    "## 3개 이상의 컬럼을 grouping해서 집계\n",
    "- 항공사/월/출발공항코드 별 취소 총수 \n",
    "- grouping할 컬럼\n",
    "    - AIRLINE:항공사\n",
    "    - MONTH:월\n",
    "    - ORG_AIR: 출발지 공항\n",
    "- 집계 대상컬럼\n",
    "    - CANCELLED: 취소여부\n",
    "- 집계 : sum   "
   ]
  },
  {
   "cell_type": "code",
   "execution_count": null,
   "metadata": {},
   "outputs": [],
   "source": []
  },
  {
   "cell_type": "code",
   "execution_count": null,
   "metadata": {},
   "outputs": [],
   "source": []
  },
  {
   "cell_type": "markdown",
   "metadata": {},
   "source": [
    "# 기타 메소드\n",
    "\n",
    "## apply() - Series, DataFrame의 데이터 일괄 처리\n",
    "\n",
    "데이터프레임의 행들과 열들 또는 Series의 원소들에 공통된 처리를 할 때 apply 함수를 이용하면 반복문을 사용하지 않고 일괄 처리가 가능하다.\n",
    "\n",
    "- DataFrame.apply(함수, axis=0, args=(), \\*\\*kwarg)\n",
    "    - 인수로 행이나 열을 받는 함수를 apply 메서드의 인수로 넣으면 데이터프레임의 행이나 열들을 하나씩 함수에 전달한다.\n",
    "    - 매개변수\n",
    "        - **함수**: DataFrame의 행들 또는 열들을 전달할 함수\n",
    "        - **axis**: **0-컬럼(열)을 전달, 1-행을 전달 (기본값 0)**\n",
    "        - **args**: 함수에 행/열 이외에 전달할 매개변수를 위치기반(순서대로) 튜플로 전달\n",
    "        - **\\*\\*kwarg**: 함수에 행/열 이외에 전달할 매개변수를 키워드 인자로 전달\n",
    "- Series.apply(함수, args=(), \\*\\*kwarg)\n",
    "    - 인수로 Series의 원소들을 받는 함수를 apply 메소드의 인수로 넣으면  Series의 원소들을 하나씩 함수로 전달한다.\n",
    "    - 매개변수\n",
    "        - **함수**: Series의 원소들을 전달할 함수\n",
    "        - **args**: 함수에 원소 이외에 전달할 매개변수를 위치기반(순서대로) 튜플로 전달\n",
    "        - **\\*\\*kwarg**: 함수에 원소 이외에 전달할 매개변수를 키워드 인자로 전달"
   ]
  },
  {
   "cell_type": "code",
   "execution_count": null,
   "metadata": {},
   "outputs": [],
   "source": []
  },
  {
   "cell_type": "markdown",
   "metadata": {},
   "source": [
    "## cut() - 연속형(실수)을 범주형으로 변환\n",
    "- cut() : 지정한 값을 기준으로 구간을 나눠 그룹으로 묶는다.\n",
    "    - `pd.cut(x, bins,right=True, labels=None)`\n",
    "    - 매개변수\n",
    "        - **x**: 범주형으로 바꿀 대상. 1차원 배열형태(Series, 리스트, ndarray)의 자료구조\n",
    "        - **bins**: 범주로 나눌때의 기준값(구간경계)들을 리스트로 묶어서 전달한다.\n",
    "        - **right**: 구간경계의 오른쪽(True-기본)을 포함할지 왼쪽(False)을 포함할지\n",
    "        - **labels**: 각 구간(범주)의 label을 리스트로 전달\n",
    "            - 생략하면 범위를 범주명으로 사용한다. (ex: (10, 20], ()-포함안함, []-포함)"
   ]
  },
  {
   "cell_type": "code",
   "execution_count": null,
   "metadata": {},
   "outputs": [],
   "source": []
  }
 ],
 "metadata": {
  "kernelspec": {
   "display_name": "Python 3 (ipykernel)",
   "language": "python",
   "name": "python3"
  },
  "language_info": {
   "codemirror_mode": {
    "name": "ipython",
    "version": 3
   },
   "file_extension": ".py",
   "mimetype": "text/x-python",
   "name": "python",
   "nbconvert_exporter": "python",
   "pygments_lexer": "ipython3",
   "version": "3.11.4"
  },
  "toc": {
   "base_numbering": 1,
   "nav_menu": {},
   "number_sections": false,
   "sideBar": false,
   "skip_h1_title": false,
   "title_cell": "Table of Contents",
   "title_sidebar": "Contents",
   "toc_cell": false,
   "toc_position": {},
   "toc_section_display": true,
   "toc_window_display": false
  },
  "varInspector": {
   "cols": {
    "lenName": 16,
    "lenType": 16,
    "lenVar": 40
   },
   "kernels_config": {
    "python": {
     "delete_cmd_postfix": "",
     "delete_cmd_prefix": "del ",
     "library": "var_list.py",
     "varRefreshCmd": "print(var_dic_list())"
    },
    "r": {
     "delete_cmd_postfix": ") ",
     "delete_cmd_prefix": "rm(",
     "library": "var_list.r",
     "varRefreshCmd": "cat(var_dic_list()) "
    }
   },
   "types_to_exclude": [
    "module",
    "function",
    "builtin_function_or_method",
    "instance",
    "_Feature"
   ],
   "window_display": false
  }
 },
 "nbformat": 4,
 "nbformat_minor": 2
}
